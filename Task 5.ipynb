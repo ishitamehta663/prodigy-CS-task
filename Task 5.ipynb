{
 "cells": [
  {
   "cell_type": "code",
   "execution_count": 3,
   "id": "e8fdd310-c5e6-461a-bb52-dcd78fde912b",
   "metadata": {},
   "outputs": [
    {
     "ename": "ModuleNotFoundError",
     "evalue": "No module named 'scapy'",
     "output_type": "error",
     "traceback": [
      "\u001b[1;31m---------------------------------------------------------------------------\u001b[0m",
      "\u001b[1;31mModuleNotFoundError\u001b[0m                       Traceback (most recent call last)",
      "Cell \u001b[1;32mIn[3], line 1\u001b[0m\n\u001b[1;32m----> 1\u001b[0m \u001b[38;5;28;01mfrom\u001b[39;00m \u001b[38;5;21;01mscapy\u001b[39;00m\u001b[38;5;21;01m.\u001b[39;00m\u001b[38;5;21;01mall\u001b[39;00m \u001b[38;5;28;01mimport\u001b[39;00m sniff, IP, TCP, UDP, Raw\n\u001b[0;32m      3\u001b[0m \u001b[38;5;28;01mdef\u001b[39;00m \u001b[38;5;21mpacket_callback\u001b[39m(packet):\n\u001b[0;32m      4\u001b[0m \u001b[38;5;250m    \u001b[39m\u001b[38;5;124;03m\"\"\"\u001b[39;00m\n\u001b[0;32m      5\u001b[0m \u001b[38;5;124;03m    Callback function to handle captured packets.\u001b[39;00m\n\u001b[0;32m      6\u001b[0m \u001b[38;5;124;03m    Displays source/destination IP, protocol, and payload data.\u001b[39;00m\n\u001b[0;32m      7\u001b[0m \u001b[38;5;124;03m    \"\"\"\u001b[39;00m\n",
      "\u001b[1;31mModuleNotFoundError\u001b[0m: No module named 'scapy'"
     ]
    }
   ],
   "source": [
    "from scapy.all import sniff, IP, TCP, UDP, Raw\n",
    "\n",
    "def packet_callback(packet):\n",
    "    \"\"\"\n",
    "    Callback function to handle captured packets.\n",
    "    Displays source/destination IP, protocol, and payload data.\n",
    "    \"\"\"\n",
    "    try:\n",
    "        # Check if the packet has an IP layer\n",
    "        if IP in packet:\n",
    "            src_ip = packet[IP].src\n",
    "            dst_ip = packet[IP].dst\n",
    "            protocol = packet[IP].proto\n",
    "\n",
    "            print(f\"\\nSource IP: {src_ip}\")\n",
    "            print(f\"Destination IP: {dst_ip}\")\n",
    "            print(f\"Protocol: {protocol}\")\n",
    "\n",
    "            # Check for TCP/UDP payload\n",
    "            if Raw in packet:\n",
    "                payload = bytes(packet[Raw].load)\n",
    "                print(f\"Payload: {payload[:50]}...\")  # Limit displayed payload size\n",
    "\n",
    "    except Exception as e:\n",
    "        print(f\"Error processing packet: {e}\")\n",
    "\n",
    "def start_sniffer(interface=None):\n",
    "    \"\"\"\n",
    "    Starts the packet sniffer.\n",
    "    :param interface: The network interface to listen on (e.g., \"eth0\", \"wlan0\").\n",
    "                      If None, it uses the default interface.\n",
    "    \"\"\"\n",
    "    print(f\"Starting packet sniffer on interface: {interface if interface else 'default'}\")\n",
    "    try:\n",
    "        sniff(iface=interface, prn=packet_callback, store=False)\n",
    "    except PermissionError:\n",
    "        print(\"Permission denied! Run the script with elevated privileges (e.g., sudo).\")\n",
    "    except Exception as e:\n",
    "        print(f\"Error starting sniffer: {e}\")\n",
    "\n",
    "if __name__ == \"__main__\":\n",
    "    # Replace 'your_interface_name' with the desired network interface or set to None for default\n",
    "    interface_name = None  # Example: \"eth0\" or \"wlan0\"\n",
    "    start_sniffer(interface=interface_name)\n"
   ]
  },
  {
   "cell_type": "code",
   "execution_count": null,
   "id": "50a299e4-30af-42a7-821e-de75b34faa26",
   "metadata": {},
   "outputs": [],
   "source": []
  },
  {
   "cell_type": "code",
   "execution_count": null,
   "id": "e0a04ba6-dccb-4e1a-8797-adb9d89f8aac",
   "metadata": {},
   "outputs": [],
   "source": []
  }
 ],
 "metadata": {
  "kernelspec": {
   "display_name": "Python 3 (ipykernel)",
   "language": "python",
   "name": "python3"
  },
  "language_info": {
   "codemirror_mode": {
    "name": "ipython",
    "version": 3
   },
   "file_extension": ".py",
   "mimetype": "text/x-python",
   "name": "python",
   "nbconvert_exporter": "python",
   "pygments_lexer": "ipython3",
   "version": "3.12.4"
  }
 },
 "nbformat": 4,
 "nbformat_minor": 5
}
