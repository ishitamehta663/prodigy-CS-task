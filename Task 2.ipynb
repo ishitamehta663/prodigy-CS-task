{
 "cells": [
  {
   "cell_type": "code",
   "execution_count": 1,
   "id": "192dba19-5e97-4a92-8717-fa0cb03a90d0",
   "metadata": {},
   "outputs": [
    {
     "name": "stdout",
     "output_type": "stream",
     "text": [
      "Welcome to the Image Encryption Tool!\n"
     ]
    },
    {
     "name": "stdin",
     "output_type": "stream",
     "text": [
      "Would you like to encrypt or decrypt an image? (e/d):  e\n",
      "Enter the path to the input image:  ppp\n",
      "Enter the path to save the output image:  oo\n",
      "Enter the encryption/decryption key (an integer):  4\n"
     ]
    },
    {
     "ename": "FileNotFoundError",
     "evalue": "[Errno 2] No such file or directory: 'C:\\\\Users\\\\Ishita\\\\ppp'",
     "output_type": "error",
     "traceback": [
      "\u001b[1;31m---------------------------------------------------------------------------\u001b[0m",
      "\u001b[1;31mFileNotFoundError\u001b[0m                         Traceback (most recent call last)",
      "Cell \u001b[1;32mIn[1], line 42\u001b[0m\n\u001b[0;32m     39\u001b[0m         decrypt_image(input_image_path, output_image_path, key)\n\u001b[0;32m     41\u001b[0m \u001b[38;5;28;01mif\u001b[39;00m \u001b[38;5;18m__name__\u001b[39m \u001b[38;5;241m==\u001b[39m \u001b[38;5;124m\"\u001b[39m\u001b[38;5;124m__main__\u001b[39m\u001b[38;5;124m\"\u001b[39m:\n\u001b[1;32m---> 42\u001b[0m     main()\n",
      "Cell \u001b[1;32mIn[1], line 37\u001b[0m, in \u001b[0;36mmain\u001b[1;34m()\u001b[0m\n\u001b[0;32m     34\u001b[0m     \u001b[38;5;28;01mreturn\u001b[39;00m\n\u001b[0;32m     36\u001b[0m \u001b[38;5;28;01mif\u001b[39;00m choice \u001b[38;5;241m==\u001b[39m \u001b[38;5;124m'\u001b[39m\u001b[38;5;124me\u001b[39m\u001b[38;5;124m'\u001b[39m:\n\u001b[1;32m---> 37\u001b[0m     encrypt_image(input_image_path, output_image_path, key)\n\u001b[0;32m     38\u001b[0m \u001b[38;5;28;01melse\u001b[39;00m:\n\u001b[0;32m     39\u001b[0m     decrypt_image(input_image_path, output_image_path, key)\n",
      "Cell \u001b[1;32mIn[1], line 5\u001b[0m, in \u001b[0;36mencrypt_image\u001b[1;34m(input_image_path, output_image_path, key)\u001b[0m\n\u001b[0;32m      4\u001b[0m \u001b[38;5;28;01mdef\u001b[39;00m \u001b[38;5;21mencrypt_image\u001b[39m(input_image_path, output_image_path, key):\n\u001b[1;32m----> 5\u001b[0m     image \u001b[38;5;241m=\u001b[39m Image\u001b[38;5;241m.\u001b[39mopen(input_image_path)\n\u001b[0;32m      6\u001b[0m     image_array \u001b[38;5;241m=\u001b[39m np\u001b[38;5;241m.\u001b[39marray(image)\n\u001b[0;32m      7\u001b[0m     encrypted_array \u001b[38;5;241m=\u001b[39m (image_array \u001b[38;5;241m+\u001b[39m key) \u001b[38;5;241m%\u001b[39m \u001b[38;5;241m256\u001b[39m\n",
      "File \u001b[1;32m~\\anaconda3\\Lib\\site-packages\\PIL\\Image.py:3277\u001b[0m, in \u001b[0;36mopen\u001b[1;34m(fp, mode, formats)\u001b[0m\n\u001b[0;32m   3274\u001b[0m     filename \u001b[38;5;241m=\u001b[39m os\u001b[38;5;241m.\u001b[39mpath\u001b[38;5;241m.\u001b[39mrealpath(os\u001b[38;5;241m.\u001b[39mfspath(fp))\n\u001b[0;32m   3276\u001b[0m \u001b[38;5;28;01mif\u001b[39;00m filename:\n\u001b[1;32m-> 3277\u001b[0m     fp \u001b[38;5;241m=\u001b[39m builtins\u001b[38;5;241m.\u001b[39mopen(filename, \u001b[38;5;124m\"\u001b[39m\u001b[38;5;124mrb\u001b[39m\u001b[38;5;124m\"\u001b[39m)\n\u001b[0;32m   3278\u001b[0m     exclusive_fp \u001b[38;5;241m=\u001b[39m \u001b[38;5;28;01mTrue\u001b[39;00m\n\u001b[0;32m   3280\u001b[0m \u001b[38;5;28;01mtry\u001b[39;00m:\n",
      "\u001b[1;31mFileNotFoundError\u001b[0m: [Errno 2] No such file or directory: 'C:\\\\Users\\\\Ishita\\\\ppp'"
     ]
    }
   ],
   "source": [
    "from PIL import Image\n",
    "import numpy as np\n",
    "\n",
    "def encrypt_image(input_image_path, output_image_path, key):\n",
    "    image = Image.open(input_image_path)\n",
    "    image_array = np.array(image)\n",
    "    encrypted_array = (image_array + key) % 256\n",
    "    encrypted_image = Image.fromarray(encrypted_array.astype('uint8'))\n",
    "    encrypted_image.save(output_image_path)\n",
    "    print(f\"Encrypted image saved as {output_image_path}\")\n",
    "\n",
    "def decrypt_image(input_image_path, output_image_path, key):\n",
    "    image = Image.open(input_image_path)\n",
    "    image_array = np.array(image)\n",
    "    decrypted_array = (image_array - key) % 256\n",
    "    decrypted_image = Image.fromarray(decrypted_array.astype('uint8'))\n",
    "    decrypted_image.save(output_image_path)\n",
    "    print(f\"Decrypted image saved as {output_image_path}\")\n",
    "\n",
    "def main():\n",
    "    print(\"Welcome to the Image Encryption Tool!\")\n",
    "    choice = input(\"Would you like to encrypt or decrypt an image? (e/d): \").strip().lower()\n",
    "    \n",
    "    if choice not in ['e', 'd']:\n",
    "        print(\"Invalid choice. Please enter 'e' for encryption or 'd' for decryption.\")\n",
    "        return\n",
    "\n",
    "    input_image_path = input(\"Enter the path to the input image: \").strip()\n",
    "    output_image_path = input(\"Enter the path to save the output image: \").strip()\n",
    "    try:\n",
    "        key = int(input(\"Enter the encryption/decryption key (an integer): \").strip())\n",
    "    except ValueError:\n",
    "        print(\"Invalid key. Please enter an integer.\")\n",
    "        return\n",
    "    \n",
    "    if choice == 'e':\n",
    "        encrypt_image(input_image_path, output_image_path, key)\n",
    "    else:\n",
    "        decrypt_image(input_image_path, output_image_path, key)\n",
    "\n",
    "if __name__ == \"__main__\":\n",
    "    main()"
   ]
  },
  {
   "cell_type": "code",
   "execution_count": null,
   "id": "c8763410-3054-4bca-9e49-d50b04f78382",
   "metadata": {},
   "outputs": [],
   "source": []
  }
 ],
 "metadata": {
  "kernelspec": {
   "display_name": "Python 3 (ipykernel)",
   "language": "python",
   "name": "python3"
  },
  "language_info": {
   "codemirror_mode": {
    "name": "ipython",
    "version": 3
   },
   "file_extension": ".py",
   "mimetype": "text/x-python",
   "name": "python",
   "nbconvert_exporter": "python",
   "pygments_lexer": "ipython3",
   "version": "3.12.4"
  }
 },
 "nbformat": 4,
 "nbformat_minor": 5
}
