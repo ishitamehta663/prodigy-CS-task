{
 "cells": [
  {
   "cell_type": "code",
   "execution_count": 9,
   "id": "258e995d-b632-45ff-be45-737e58f86ba3",
   "metadata": {},
   "outputs": [
    {
     "name": "stdout",
     "output_type": "stream",
     "text": [
      "Password Complexity Checker\n"
     ]
    },
    {
     "name": "stdin",
     "output_type": "stream",
     "text": [
      "Enter a password to check its complexity:  pass\n"
     ]
    },
    {
     "name": "stdout",
     "output_type": "stream",
     "text": [
      "Password complexity: Weak\n"
     ]
    }
   ],
   "source": [
    "import re\n",
    "\n",
    "def check_password_complexity(password):\n",
    "    # Define the criteria for a strong password\n",
    "    length_criteria = len(password) >= 8\n",
    "    upper_criteria = re.search(r\"[A-Z]\", password)\n",
    "    lower_criteria = re.search(r\"[a-z]\", password)\n",
    "    digit_criteria = re.search(r\"\\d\", password)\n",
    "    special_criteria = re.search(r\"[!@#$%^&*(),.?\\\":{}|<>]\", password)\n",
    "\n",
    "    # Check if all criteria are met\n",
    "    if (length_criteria and upper_criteria and lower_criteria \n",
    "            and digit_criteria and special_criteria):\n",
    "        return \"Strong\"\n",
    "    elif (length_criteria and upper_criteria and lower_criteria \n",
    "            and (digit_criteria or special_criteria)):\n",
    "        return \"Moderate\"\n",
    "    else:\n",
    "        return \"Weak\"\n",
    "\n",
    "def main():\n",
    "    print(\"Password Complexity Checker\")\n",
    "    password = input(\"Enter a password to check its complexity: \").strip()\n",
    "    \n",
    "    complexity = check_password_complexity(password)\n",
    "    print(f\"Password complexity: {complexity}\")\n",
    "\n",
    "if __name__ == \"__main__\":\n",
    "    main()"
   ]
  },
  {
   "cell_type": "code",
   "execution_count": null,
   "id": "957f5ff5-a91d-4c66-acff-95abe9b7836a",
   "metadata": {},
   "outputs": [],
   "source": []
  }
 ],
 "metadata": {
  "kernelspec": {
   "display_name": "Python 3 (ipykernel)",
   "language": "python",
   "name": "python3"
  },
  "language_info": {
   "codemirror_mode": {
    "name": "ipython",
    "version": 3
   },
   "file_extension": ".py",
   "mimetype": "text/x-python",
   "name": "python",
   "nbconvert_exporter": "python",
   "pygments_lexer": "ipython3",
   "version": "3.12.4"
  }
 },
 "nbformat": 4,
 "nbformat_minor": 5
}
