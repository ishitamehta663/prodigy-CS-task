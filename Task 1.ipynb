{
 "cells": [
  {
   "cell_type": "code",
   "execution_count": 1,
   "id": "6f67fa34-ed31-4e5b-84dc-56ca98cc5f97",
   "metadata": {},
   "outputs": [
    {
     "name": "stdout",
     "output_type": "stream",
     "text": [
      "Caesar Cipher Program\n",
      "\n",
      "Options:\n",
      "1. Encrypt a message\n",
      "2. Decrypt a message\n",
      "3. Exit\n"
     ]
    },
    {
     "name": "stdin",
     "output_type": "stream",
     "text": [
      "Enter your choice (1/2/3):  \n"
     ]
    },
    {
     "name": "stdout",
     "output_type": "stream",
     "text": [
      "Invalid choice. Please try again.\n",
      "\n",
      "Options:\n",
      "1. Encrypt a message\n",
      "2. Decrypt a message\n",
      "3. Exit\n"
     ]
    },
    {
     "name": "stdin",
     "output_type": "stream",
     "text": [
      "Enter your choice (1/2/3):  1\n",
      "Enter the message to encrypt:  hello\n",
      "Enter the shift value:  3\n"
     ]
    },
    {
     "name": "stdout",
     "output_type": "stream",
     "text": [
      "Encrypted message: khoor\n",
      "\n",
      "Options:\n",
      "1. Encrypt a message\n",
      "2. Decrypt a message\n",
      "3. Exit\n"
     ]
    },
    {
     "name": "stdin",
     "output_type": "stream",
     "text": [
      "Enter your choice (1/2/3):  2\n",
      "Enter the message to decrypt:  fo\n",
      "Enter the shift value:  2\n"
     ]
    },
    {
     "name": "stdout",
     "output_type": "stream",
     "text": [
      "Decrypted message: dm\n",
      "\n",
      "Options:\n",
      "1. Encrypt a message\n",
      "2. Decrypt a message\n",
      "3. Exit\n"
     ]
    },
    {
     "name": "stdin",
     "output_type": "stream",
     "text": [
      "Enter your choice (1/2/3):  3\n"
     ]
    },
    {
     "name": "stdout",
     "output_type": "stream",
     "text": [
      "Exiting the program. Goodbye!\n"
     ]
    }
   ],
   "source": [
    "def caesar_cipher_encrypt(text, shift):\n",
    "    encrypted_text = \"\"\n",
    "    for char in text:\n",
    "        if char.isalpha():\n",
    "            shift_base = 65 if char.isupper() else 97\n",
    "            encrypted_text += chr((ord(char) - shift_base + shift) % 26 + shift_base)\n",
    "        else:\n",
    "            encrypted_text += char \n",
    "    return encrypted_text\n",
    "\n",
    "def caesar_cipher_decrypt(text, shift):\n",
    "    return caesar_cipher_encrypt(text, -shift)  # Decryption is the reverse of encryption\n",
    "\n",
    "def main():\n",
    "    print(\"Caesar Cipher Program\")\n",
    "    while True:\n",
    "        print(\"\\nOptions:\")\n",
    "        print(\"1. Encrypt a message\")\n",
    "        print(\"2. Decrypt a message\")\n",
    "        print(\"3. Exit\")\n",
    "        choice = input(\"Enter your choice (1/2/3): \")\n",
    "        \n",
    "        if choice == \"1\":\n",
    "            message = input(\"Enter the message to encrypt: \")\n",
    "            shift = int(input(\"Enter the shift value: \"))\n",
    "            encrypted_message = caesar_cipher_encrypt(message, shift)\n",
    "            print(f\"Encrypted message: {encrypted_message}\")\n",
    "        \n",
    "        elif choice == \"2\":\n",
    "            message = input(\"Enter the message to decrypt: \")\n",
    "            shift = int(input(\"Enter the shift value: \"))\n",
    "            decrypted_message = caesar_cipher_decrypt(message, shift)\n",
    "            print(f\"Decrypted message: {decrypted_message}\")\n",
    "        \n",
    "        elif choice == \"3\":\n",
    "            print(\"Exiting the program. Goodbye!\")\n",
    "            break\n",
    "        \n",
    "        else:\n",
    "            print(\"Invalid choice. Please try again.\")\n",
    "\n",
    "if __name__ == \"__main__\":\n",
    "    main()\n"
   ]
  },
  {
   "cell_type": "code",
   "execution_count": null,
   "id": "a17ce2c5-3ff1-4954-8705-a54075513607",
   "metadata": {},
   "outputs": [],
   "source": []
  }
 ],
 "metadata": {
  "kernelspec": {
   "display_name": "Python 3 (ipykernel)",
   "language": "python",
   "name": "python3"
  },
  "language_info": {
   "codemirror_mode": {
    "name": "ipython",
    "version": 3
   },
   "file_extension": ".py",
   "mimetype": "text/x-python",
   "name": "python",
   "nbconvert_exporter": "python",
   "pygments_lexer": "ipython3",
   "version": "3.12.4"
  }
 },
 "nbformat": 4,
 "nbformat_minor": 5
}
